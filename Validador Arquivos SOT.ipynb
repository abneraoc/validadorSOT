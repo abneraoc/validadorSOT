{
 "cells": [
  {
   "cell_type": "markdown",
   "id": "830cc552",
   "metadata": {},
   "source": [
    "### Execute a linha abaixo para seguir para o diretório onde estão os arquivos que serão validados\n",
    "### Lembre-se de ajustar o código de acordo com a sua máquina"
   ]
  },
  {
   "cell_type": "code",
   "execution_count": 3,
   "id": "16be04e7",
   "metadata": {
    "scrolled": true
   },
   "outputs": [
    {
     "ename": "FileNotFoundError",
     "evalue": "[WinError 2] O sistema não pode encontrar o arquivo especificado: 'C:\\\\Users\\\\Abner Cruz\\\\Documents\\\\LTM\\\\LTM\\\\LTM'",
     "output_type": "error",
     "traceback": [
      "\u001b[1;31m---------------------------------------------------------------------------\u001b[0m",
      "\u001b[1;31mFileNotFoundError\u001b[0m                         Traceback (most recent call last)",
      "Cell \u001b[1;32mIn[3], line 6\u001b[0m\n\u001b[0;32m      3\u001b[0m diretorio \u001b[38;5;241m=\u001b[39m os\u001b[38;5;241m.\u001b[39mgetcwd()\n\u001b[0;32m      5\u001b[0m \u001b[38;5;66;03m# Mudar (ch) para o diretório aonde estão os arquivos que serão validados\u001b[39;00m\n\u001b[1;32m----> 6\u001b[0m \u001b[43mos\u001b[49m\u001b[38;5;241;43m.\u001b[39;49m\u001b[43mchdir\u001b[49m\u001b[43m(\u001b[49m\u001b[43mdiretorio\u001b[49m\u001b[43m \u001b[49m\u001b[38;5;241;43m+\u001b[39;49m\u001b[43m \u001b[49m\u001b[38;5;124;43m'\u001b[39;49m\u001b[38;5;124;43m\\\u001b[39;49m\u001b[38;5;124;43mLTM\u001b[39;49m\u001b[38;5;124;43m'\u001b[39;49m\u001b[43m)\u001b[49m\n",
      "\u001b[1;31mFileNotFoundError\u001b[0m: [WinError 2] O sistema não pode encontrar o arquivo especificado: 'C:\\\\Users\\\\Abner Cruz\\\\Documents\\\\LTM\\\\LTM\\\\LTM'"
     ]
    }
   ],
   "source": [
    "import os\n",
    "# Pegar o diretório atual para usar na próxima linha\n",
    "diretorio = os.getcwd()\n",
    "\n",
    "# Mudar (ch) para o diretório aonde estão os arquivos que serão validados\n",
    "os.chdir(diretorio + '\\LTM')"
   ]
  },
  {
   "cell_type": "markdown",
   "id": "4a40df40",
   "metadata": {},
   "source": [
    "### Execute a linha abaixo para ativar as funções que serão utilizadas na validação"
   ]
  },
  {
   "cell_type": "code",
   "execution_count": 4,
   "id": "abe11add",
   "metadata": {},
   "outputs": [],
   "source": [
    "# Função para renomear os arquivos com erro\n",
    "import os\n",
    "import pandas as pd\n",
    "from tqdm import tqdm\n",
    "\n",
    "def renomear_arquivo(nome_arquivo):\n",
    "    nome_arquivo_splited = nome_arquivo.split(sep='.')\n",
    "    os.rename(nome_arquivo, nome_arquivo_splited[0]+' ERRO.'+nome_arquivo_splited[1])"
   ]
  },
  {
   "cell_type": "markdown",
   "id": "42228840",
   "metadata": {},
   "source": [
    "### O código abaixo validará os arquivos e renomeará aqueles que estiver com ERRO"
   ]
  },
  {
   "cell_type": "code",
   "execution_count": 60,
   "id": "6aa2a905",
   "metadata": {
    "scrolled": true
   },
   "outputs": [
    {
     "name": "stderr",
     "output_type": "stream",
     "text": [
      "\r",
      "Processando os Arquivos:   0%|                                                                  | 0/93 [00:00<?, ?it/s]"
     ]
    },
    {
     "name": "stdout",
     "output_type": "stream",
     "text": [
      "Informe a quantidade de dias analisados: 31\n",
      "Informe a quantidade de setores cadastrados na BDS: 30\n"
     ]
    },
    {
     "name": "stderr",
     "output_type": "stream",
     "text": [
      "Processando os Arquivos: 100%|█████████████████████████████████████████████████████████| 93/93 [00:18<00:00,  4.98it/s]\n"
     ]
    }
   ],
   "source": [
    "lista_arquivos = os.listdir()\n",
    "\n",
    "pbar = tqdm(total=len(lista_arquivos), desc='Processando os Arquivos')\n",
    "\n",
    "qtde_erros_sectconfig = 0\n",
    "qtde_erros_flights = 0\n",
    "qtde_erros_config = 0\n",
    "qtde_dias_analisados = input('Informe a quantidade de dias analisados: ')\n",
    "qtde_setores = input('Informe a quantidade de setores cadastrados na BDS: ')\n",
    "qtde_esperada_analise = int(qtde_dias_analisados) * 3\n",
    "\n",
    "lista_erro_sectconfig = []\n",
    "lista_erro_flights = []\n",
    "lista_erro_config = []\n",
    "\n",
    "for arquivo in lista_arquivos:\n",
    "    # Validar os arquivos sect_config\n",
    "    if 'sect_config' in arquivo:\n",
    "        # Abrir arquivo\n",
    "        df = pd.read_csv(arquivo, sep=';', header=None, low_memory=False)\n",
    "        \n",
    "        # Coletar certas variáveis para validação \n",
    "        qtde_linhas = len(df.index) - 1 # Subtraí 1 para não contar o cabeçalho do arquivo\n",
    "        arquivo_split = arquivo.split(sep='.')\n",
    "    \n",
    "        # Condição para validação: número de setores * 1440 (qtde de minutos em um dia)\n",
    "        if (qtde_setores * 1440) != qtde_linhas:\n",
    "            #renomear_arquivo(arquivo)\n",
    "            qtde_erros_sectconfig += 1\n",
    "            lista_erro_sectconfig.append(arquivo)\n",
    "    \n",
    "    # Validar os arquivos flights\n",
    "    elif 'flights' in arquivo:\n",
    "        \n",
    "        # Abrir o arquivo como df\n",
    "        df = pd.read_csv(arquivo, sep=';', header=None, low_memory=False)\n",
    "        \n",
    "        # coletar certas variáveis para validação\n",
    "        data_arquivo = arquivo[:4] + '-' + arquivo[4:6] + '-' + arquivo[6:8]\n",
    "        qtde_linhas = len(df.index)\n",
    "        \n",
    "        # condição para validação: ter um dia inteiro (começar com 00:00:00 e terminar com 23:59:59 do mesmo dia\n",
    "        if df.iloc[1,0] != (data_arquivo + '00:00:00') and df.iloc[qtde_linhas-1,0] != (data_arquivo + '23:59:59'):\n",
    "            #renomear_arquivo(arquivo)\n",
    "            qtde_erros_flights += 1\n",
    "            lista_erro_flights.append(arquivo)\n",
    "            \n",
    "    # Validar os arquivos config\n",
    "    else:\n",
    "        # Abrir o arquivo como df\n",
    "        df = pd.read_csv(arquivo, sep=';', header=None, low_memory=False)\n",
    "        \n",
    "        # Condição para validação: ter 1441 linhas (qtde de minutos em um dia + a linha do cabeçalho)\n",
    "        if len(df.index) != 1441:\n",
    "            #renomear_arquivo(arquivo)\n",
    "            qtde_erros_config += 1\n",
    "            lista_erro_config.append(arquivo)\n",
    "            \n",
    "    pbar.update(1)\n",
    "    \n",
    "pbar.close()        "
   ]
  },
  {
   "cell_type": "markdown",
   "id": "30aca370",
   "metadata": {},
   "source": [
    "### Execute a linha abaixo para saber a quantidade de erros encontrados por tipo de arquivo"
   ]
  },
  {
   "cell_type": "code",
   "execution_count": 36,
   "id": "6b8703f2",
   "metadata": {},
   "outputs": [
    {
     "name": "stdout",
     "output_type": "stream",
     "text": [
      "Erros encontrados:\n",
      "Arquivos sect_config: 31\n",
      "Arquivos flights: 0\n",
      "Arquivos config: 11\n"
     ]
    }
   ],
   "source": [
    "print('Erros encontrados:\\n' + \n",
    "      'Arquivos sect_config: ' + str(qtde_erros_sectconfig) + '\\n'\n",
    "      'Arquivos flights: ' + str(qtde_erros_flights) +  '\\n'\n",
    "      'Arquivos config: ' + str(qtde_erros_config))"
   ]
  },
  {
   "cell_type": "markdown",
   "id": "bd1bb223",
   "metadata": {},
   "source": [
    "### Execute a linha abaixo para criar um arquivo txt com um resumo, se desejar."
   ]
  },
  {
   "cell_type": "code",
   "execution_count": 61,
   "id": "a664418c",
   "metadata": {},
   "outputs": [],
   "source": [
    "f = open('Relato de Erros.txt', 'w')\n",
    "f.write(f'Quantidade de Arquivos Analisados: {len(lista_arquivos)}' + '\\n\\n')\n",
    "f.write(f'Quantidade Esperada: {qtde_esperada_analise}' + '\\n\\n')\n",
    "f.write('Quantidade de Arquivos com Erros encontrada:\\n' + \n",
    "        'Arquivos sect_config: ' + str(qtde_erros_sectconfig) + '\\n'\n",
    "        'Arquivos flights: ' + str(qtde_erros_flights) +  '\\n'\n",
    "        'Arquivos config: ' + str(qtde_erros_config) +  '\\n')\n",
    "f.write('Lista de Arquivos SectConfig:' +  '\\n\\n')\n",
    "for arquivo in lista_erro_sectconfig:\n",
    "    f.write(arquivo +  '\\n')\n",
    "f.write('\\n')\n",
    "f.write('Lista de Arquivos Flights:' +  '\\n\\n')\n",
    "for arquivo in lista_erro_flights:\n",
    "    f.write(arquivo +  '\\n')\n",
    "f.write('\\n')\n",
    "f.write('Lista de Arquivos Config:' +  '\\n\\n')\n",
    "for arquivo in lista_erro_config:\n",
    "    f.write(arquivo +  '\\n')\n",
    "f.write('\\n')\n",
    "f.close()"
   ]
  }
 ],
 "metadata": {
  "kernelspec": {
   "display_name": "Python 3 (ipykernel)",
   "language": "python",
   "name": "python3"
  },
  "language_info": {
   "codemirror_mode": {
    "name": "ipython",
    "version": 3
   },
   "file_extension": ".py",
   "mimetype": "text/x-python",
   "name": "python",
   "nbconvert_exporter": "python",
   "pygments_lexer": "ipython3",
   "version": "3.10.9"
  }
 },
 "nbformat": 4,
 "nbformat_minor": 5
}
